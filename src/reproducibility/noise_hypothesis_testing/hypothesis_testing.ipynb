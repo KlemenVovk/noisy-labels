{
 "cells": [
  {
   "cell_type": "code",
   "execution_count": 48,
   "metadata": {},
   "outputs": [],
   "source": [
    "import torch\n",
    "from torch import nn\n",
    "from torchvision.datasets import CIFAR10\n",
    "from torchvision.models.resnet import resnet34\n",
    "from torchvision.models.feature_extraction import create_feature_extractor, get_graph_node_names\n",
    "from torchvision import transforms\n",
    "import numpy as np\n",
    "from sklearn.cluster import KMeans\n",
    "from scipy.stats import ttest_ind\n",
    "from matplotlib import pyplot as plt\n",
    "from tqdm import tqdm"
   ]
  },
  {
   "cell_type": "markdown",
   "metadata": {},
   "source": [
    "Generating the transition matrix based on random label 1 noisy labels and generating synthetic labels based on it"
   ]
  },
  {
   "cell_type": "code",
   "execution_count": 2,
   "metadata": {},
   "outputs": [
    {
     "data": {
      "text/plain": [
       "tensor([6, 9, 9,  ..., 9, 1, 1])"
      ]
     },
     "execution_count": 2,
     "metadata": {},
     "output_type": "execute_result"
    }
   ],
   "source": [
    "noisy_path = \"../../../data/noisylabels/CIFAR-10_human.pt\"\n",
    "noisy_labels = torch.tensor(torch.load(noisy_path)[\"random_label1\"])\n",
    "noisy_labels"
   ]
  },
  {
   "cell_type": "code",
   "execution_count": 3,
   "metadata": {},
   "outputs": [
    {
     "data": {
      "text/plain": [
       "tensor([6, 9, 9,  ..., 9, 1, 1])"
      ]
     },
     "execution_count": 3,
     "metadata": {},
     "output_type": "execute_result"
    }
   ],
   "source": [
    "cifar10_train_transform = transforms.Compose([\n",
    "    transforms.RandomCrop(32, padding=4),\n",
    "    transforms.RandomHorizontalFlip(),\n",
    "    transforms.ToTensor(),\n",
    "    transforms.Normalize((0.4914, 0.4822, 0.4465), (0.2023, 0.1994, 0.2010)),\n",
    "])\n",
    "\n",
    "clean_dataset = CIFAR10(\"../../../data/cifar\", train=True, transform=cifar10_train_transform)\n",
    "clean_labels = torch.tensor(clean_dataset.targets)\n",
    "clean_labels"
   ]
  },
  {
   "cell_type": "code",
   "execution_count": 4,
   "metadata": {},
   "outputs": [
    {
     "data": {
      "text/plain": [
       "tensor([[0.8484, 0.0274, 0.0294, 0.0086, 0.0068, 0.0094, 0.0082, 0.0064, 0.0408,\n",
       "         0.0146],\n",
       "        [0.0142, 0.8466, 0.0046, 0.0088, 0.0058, 0.0046, 0.0050, 0.0048, 0.0086,\n",
       "         0.0970],\n",
       "        [0.0214, 0.0152, 0.8400, 0.0214, 0.0272, 0.0202, 0.0230, 0.0152, 0.0100,\n",
       "         0.0064],\n",
       "        [0.0158, 0.0152, 0.0440, 0.7430, 0.0188, 0.1084, 0.0240, 0.0158, 0.0072,\n",
       "         0.0078],\n",
       "        [0.0148, 0.0152, 0.0298, 0.0192, 0.7600, 0.0504, 0.0186, 0.0770, 0.0088,\n",
       "         0.0062],\n",
       "        [0.0140, 0.0108, 0.0236, 0.0818, 0.0166, 0.8234, 0.0100, 0.0126, 0.0038,\n",
       "         0.0034],\n",
       "        [0.0150, 0.0140, 0.0386, 0.0358, 0.0196, 0.0226, 0.8270, 0.0120, 0.0100,\n",
       "         0.0054],\n",
       "        [0.0148, 0.0118, 0.0074, 0.0090, 0.0206, 0.0236, 0.0072, 0.8950, 0.0062,\n",
       "         0.0044],\n",
       "        [0.0298, 0.0296, 0.0072, 0.0062, 0.0070, 0.0060, 0.0066, 0.0068, 0.8794,\n",
       "         0.0214],\n",
       "        [0.0160, 0.1258, 0.0046, 0.0050, 0.0066, 0.0080, 0.0054, 0.0054, 0.0094,\n",
       "         0.8138]])"
      ]
     },
     "execution_count": 4,
     "metadata": {},
     "output_type": "execute_result"
    }
   ],
   "source": [
    "num_classes = 10\n",
    "T = torch.zeros(num_classes, num_classes)\n",
    "\n",
    "for i in range(num_classes):\n",
    "    clean_mask = clean_labels == i\n",
    "    for j in range(num_classes):\n",
    "        p = (noisy_labels[clean_mask] == j).float().mean()\n",
    "        T[i, j] = p\n",
    "T"
   ]
  },
  {
   "cell_type": "code",
   "execution_count": 5,
   "metadata": {},
   "outputs": [
    {
     "data": {
      "text/plain": [
       "tensor([6, 9, 2,  ..., 9, 1, 1])"
      ]
     },
     "execution_count": 5,
     "metadata": {},
     "output_type": "execute_result"
    }
   ],
   "source": [
    "gen = torch.Generator(\"cpu\").manual_seed(1337)\n",
    "synthetic_labels = torch.multinomial(T[clean_labels], 1, generator=gen).squeeze()\n",
    "synthetic_labels"
   ]
  },
  {
   "cell_type": "markdown",
   "metadata": {},
   "source": [
    "Training ResNet34 on clean data"
   ]
  },
  {
   "cell_type": "code",
   "execution_count": 6,
   "metadata": {},
   "outputs": [],
   "source": [
    "model = resnet34(weights=None, num_classes=num_classes)\n",
    "criterion = nn.CrossEntropyLoss()\n",
    "optimizer = torch.optim.Adam(model.parameters(), lr=1e-3)\n",
    "loader = torch.utils.data.DataLoader(clean_dataset, batch_size=128)\n",
    "\n",
    "num_epochs = 100"
   ]
  },
  {
   "cell_type": "code",
   "execution_count": 7,
   "metadata": {},
   "outputs": [
    {
     "name": "stderr",
     "output_type": "stream",
     "text": [
      "epoch=  0: 100%|███████████████| 391/391 [00:40<00:00,  9.58it/s, loss=1.36e+00]\n",
      "epoch=  1: 100%|███████████████| 391/391 [00:35<00:00, 10.95it/s, loss=1.19e+00]\n",
      "epoch=  2: 100%|███████████████| 391/391 [00:35<00:00, 10.94it/s, loss=1.01e+00]\n",
      "epoch=  3: 100%|███████████████| 391/391 [00:35<00:00, 10.96it/s, loss=1.03e+00]\n",
      "epoch=  4: 100%|███████████████| 391/391 [00:35<00:00, 10.87it/s, loss=9.78e-01]\n",
      "epoch=  5: 100%|███████████████| 391/391 [00:36<00:00, 10.81it/s, loss=6.48e-01]\n",
      "epoch=  6: 100%|███████████████| 391/391 [00:36<00:00, 10.82it/s, loss=8.41e-01]\n",
      "epoch=  7: 100%|███████████████| 391/391 [00:36<00:00, 10.81it/s, loss=7.52e-01]\n",
      "epoch=  8: 100%|███████████████| 391/391 [00:36<00:00, 10.84it/s, loss=6.66e-01]\n",
      "epoch=  9: 100%|███████████████| 391/391 [00:35<00:00, 10.90it/s, loss=6.40e-01]\n",
      "epoch= 10: 100%|███████████████| 391/391 [00:35<00:00, 10.94it/s, loss=6.44e-01]\n",
      "epoch= 11: 100%|███████████████| 391/391 [00:35<00:00, 10.89it/s, loss=7.24e-01]\n",
      "epoch= 12: 100%|███████████████| 391/391 [00:35<00:00, 10.89it/s, loss=6.38e-01]\n",
      "epoch= 13: 100%|███████████████| 391/391 [00:35<00:00, 10.90it/s, loss=5.88e-01]\n",
      "epoch= 14: 100%|███████████████| 391/391 [00:35<00:00, 10.94it/s, loss=5.11e-01]\n",
      "epoch= 15: 100%|███████████████| 391/391 [00:35<00:00, 10.90it/s, loss=5.98e-01]\n",
      "epoch= 16: 100%|███████████████| 391/391 [00:36<00:00, 10.81it/s, loss=6.72e-01]\n",
      "epoch= 17: 100%|███████████████| 391/391 [00:36<00:00, 10.82it/s, loss=4.54e-01]\n",
      "epoch= 18: 100%|███████████████| 391/391 [00:36<00:00, 10.79it/s, loss=5.94e-01]\n",
      "epoch= 19: 100%|███████████████| 391/391 [00:36<00:00, 10.78it/s, loss=6.82e-01]\n",
      "epoch= 20: 100%|███████████████| 391/391 [00:36<00:00, 10.81it/s, loss=4.69e-01]\n",
      "epoch= 21: 100%|███████████████| 391/391 [00:35<00:00, 10.86it/s, loss=3.83e-01]\n",
      "epoch= 22: 100%|███████████████| 391/391 [00:36<00:00, 10.83it/s, loss=4.26e-01]\n",
      "epoch= 23: 100%|███████████████| 391/391 [00:36<00:00, 10.82it/s, loss=4.85e-01]\n",
      "epoch= 24: 100%|███████████████| 391/391 [00:36<00:00, 10.79it/s, loss=4.35e-01]\n",
      "epoch= 25: 100%|███████████████| 391/391 [00:36<00:00, 10.86it/s, loss=3.79e-01]\n",
      "epoch= 26: 100%|███████████████| 391/391 [00:36<00:00, 10.83it/s, loss=3.78e-01]\n",
      "epoch= 27: 100%|███████████████| 391/391 [00:36<00:00, 10.84it/s, loss=3.80e-01]\n",
      "epoch= 28: 100%|███████████████| 391/391 [00:36<00:00, 10.82it/s, loss=2.45e-01]\n",
      "epoch= 29: 100%|███████████████| 391/391 [00:36<00:00, 10.81it/s, loss=2.94e-01]\n",
      "epoch= 30: 100%|███████████████| 391/391 [00:36<00:00, 10.80it/s, loss=3.39e-01]\n",
      "epoch= 31: 100%|███████████████| 391/391 [00:36<00:00, 10.82it/s, loss=2.19e-01]\n",
      "epoch= 32: 100%|███████████████| 391/391 [00:35<00:00, 10.90it/s, loss=2.16e-01]\n",
      "epoch= 33: 100%|███████████████| 391/391 [00:35<00:00, 10.94it/s, loss=3.57e-01]\n",
      "epoch= 34: 100%|███████████████| 391/391 [00:35<00:00, 10.89it/s, loss=3.60e-01]\n",
      "epoch= 35: 100%|███████████████| 391/391 [00:35<00:00, 10.87it/s, loss=3.02e-01]\n",
      "epoch= 36: 100%|███████████████| 391/391 [00:35<00:00, 10.91it/s, loss=3.00e-01]\n",
      "epoch= 37: 100%|███████████████| 391/391 [00:35<00:00, 10.91it/s, loss=2.61e-01]\n",
      "epoch= 38: 100%|███████████████| 391/391 [00:35<00:00, 10.95it/s, loss=1.78e-01]\n",
      "epoch= 39: 100%|███████████████| 391/391 [00:36<00:00, 10.86it/s, loss=4.92e-01]\n",
      "epoch= 40: 100%|███████████████| 391/391 [00:36<00:00, 10.81it/s, loss=2.11e-01]\n",
      "epoch= 41: 100%|███████████████| 391/391 [00:36<00:00, 10.83it/s, loss=3.20e-01]\n",
      "epoch= 42: 100%|███████████████| 391/391 [00:36<00:00, 10.81it/s, loss=3.21e-01]\n",
      "epoch= 43: 100%|███████████████| 391/391 [00:36<00:00, 10.77it/s, loss=1.99e-01]\n",
      "epoch= 44: 100%|███████████████| 391/391 [00:36<00:00, 10.81it/s, loss=1.92e-01]\n",
      "epoch= 45: 100%|███████████████| 391/391 [00:37<00:00, 10.43it/s, loss=1.88e-01]\n",
      "epoch= 46: 100%|███████████████| 391/391 [00:36<00:00, 10.85it/s, loss=1.53e-01]\n",
      "epoch= 47: 100%|███████████████| 391/391 [00:37<00:00, 10.40it/s, loss=1.99e-01]\n",
      "epoch= 48: 100%|███████████████| 391/391 [00:35<00:00, 10.86it/s, loss=3.04e-01]\n",
      "epoch= 49: 100%|███████████████| 391/391 [00:36<00:00, 10.70it/s, loss=2.10e-01]\n",
      "epoch= 50: 100%|███████████████| 391/391 [00:37<00:00, 10.49it/s, loss=1.79e-01]\n",
      "epoch= 51: 100%|███████████████| 391/391 [00:36<00:00, 10.73it/s, loss=1.80e-01]\n",
      "epoch= 52: 100%|███████████████| 391/391 [00:36<00:00, 10.72it/s, loss=3.24e-01]\n",
      "epoch= 53: 100%|███████████████| 391/391 [00:36<00:00, 10.75it/s, loss=1.40e-01]\n",
      "epoch= 54: 100%|███████████████| 391/391 [00:36<00:00, 10.79it/s, loss=1.07e-01]\n",
      "epoch= 55: 100%|███████████████| 391/391 [00:36<00:00, 10.74it/s, loss=1.40e-01]\n",
      "epoch= 56: 100%|███████████████| 391/391 [00:36<00:00, 10.66it/s, loss=6.24e-02]\n",
      "epoch= 57: 100%|███████████████| 391/391 [00:36<00:00, 10.61it/s, loss=1.13e-01]\n",
      "epoch= 58: 100%|███████████████| 391/391 [00:36<00:00, 10.86it/s, loss=1.66e-01]\n",
      "epoch= 59: 100%|███████████████| 391/391 [00:36<00:00, 10.71it/s, loss=4.50e-02]\n",
      "epoch= 60: 100%|███████████████| 391/391 [00:36<00:00, 10.84it/s, loss=8.72e-02]\n",
      "epoch= 61: 100%|███████████████| 391/391 [00:36<00:00, 10.67it/s, loss=2.59e-01]\n",
      "epoch= 62: 100%|███████████████| 391/391 [00:36<00:00, 10.77it/s, loss=1.35e-01]\n",
      "epoch= 63: 100%|███████████████| 391/391 [00:36<00:00, 10.72it/s, loss=1.39e-01]\n",
      "epoch= 64: 100%|███████████████| 391/391 [00:36<00:00, 10.79it/s, loss=1.24e-01]\n",
      "epoch= 65: 100%|███████████████| 391/391 [00:35<00:00, 10.89it/s, loss=1.79e-01]\n",
      "epoch= 66: 100%|███████████████| 391/391 [00:36<00:00, 10.72it/s, loss=8.74e-02]\n",
      "epoch= 67: 100%|███████████████| 391/391 [00:36<00:00, 10.83it/s, loss=2.23e-01]\n",
      "epoch= 68: 100%|███████████████| 391/391 [00:36<00:00, 10.82it/s, loss=1.51e-01]\n",
      "epoch= 69: 100%|███████████████| 391/391 [00:36<00:00, 10.78it/s, loss=6.45e-02]\n",
      "epoch= 70: 100%|███████████████| 391/391 [00:36<00:00, 10.79it/s, loss=9.08e-02]\n",
      "epoch= 71: 100%|███████████████| 391/391 [00:36<00:00, 10.84it/s, loss=8.43e-02]\n",
      "epoch= 72: 100%|███████████████| 391/391 [00:36<00:00, 10.83it/s, loss=1.38e-01]\n",
      "epoch= 73: 100%|███████████████| 391/391 [00:36<00:00, 10.82it/s, loss=1.39e-01]\n",
      "epoch= 74: 100%|███████████████| 391/391 [00:36<00:00, 10.82it/s, loss=7.38e-02]\n",
      "epoch= 75: 100%|███████████████| 391/391 [00:36<00:00, 10.79it/s, loss=8.36e-02]\n",
      "epoch= 76: 100%|███████████████| 391/391 [00:36<00:00, 10.79it/s, loss=1.25e-01]\n",
      "epoch= 77: 100%|███████████████| 391/391 [00:36<00:00, 10.82it/s, loss=8.95e-02]\n",
      "epoch= 78: 100%|███████████████| 391/391 [00:36<00:00, 10.83it/s, loss=1.07e-01]\n",
      "epoch= 79: 100%|███████████████| 391/391 [00:36<00:00, 10.84it/s, loss=5.98e-02]\n",
      "epoch= 80: 100%|███████████████| 391/391 [00:36<00:00, 10.83it/s, loss=1.94e-01]\n",
      "epoch= 81: 100%|███████████████| 391/391 [00:36<00:00, 10.84it/s, loss=1.14e-01]\n",
      "epoch= 82: 100%|███████████████| 391/391 [00:35<00:00, 10.94it/s, loss=4.18e-02]\n",
      "epoch= 83: 100%|███████████████| 391/391 [00:35<00:00, 10.90it/s, loss=6.34e-02]\n",
      "epoch= 84: 100%|███████████████| 391/391 [00:35<00:00, 10.91it/s, loss=5.64e-02]\n",
      "epoch= 85: 100%|███████████████| 391/391 [00:35<00:00, 10.93it/s, loss=5.74e-02]\n",
      "epoch= 86: 100%|███████████████| 391/391 [00:35<00:00, 10.91it/s, loss=5.26e-02]\n",
      "epoch= 87: 100%|███████████████| 391/391 [00:35<00:00, 10.87it/s, loss=4.10e-02]\n",
      "epoch= 88: 100%|███████████████| 391/391 [00:35<00:00, 10.87it/s, loss=5.80e-02]\n",
      "epoch= 89: 100%|███████████████| 391/391 [00:35<00:00, 10.92it/s, loss=8.84e-02]\n",
      "epoch= 90: 100%|███████████████| 391/391 [00:35<00:00, 10.92it/s, loss=1.12e-01]\n",
      "epoch= 91: 100%|███████████████| 391/391 [00:35<00:00, 10.93it/s, loss=8.70e-02]\n",
      "epoch= 92: 100%|███████████████| 391/391 [00:35<00:00, 10.88it/s, loss=8.97e-02]\n",
      "epoch= 93: 100%|███████████████| 391/391 [00:35<00:00, 10.87it/s, loss=9.38e-02]\n",
      "epoch= 94: 100%|███████████████| 391/391 [00:35<00:00, 10.92it/s, loss=5.68e-02]\n",
      "epoch= 95: 100%|███████████████| 391/391 [00:35<00:00, 10.93it/s, loss=8.72e-02]\n",
      "epoch= 96: 100%|███████████████| 391/391 [00:35<00:00, 10.91it/s, loss=1.14e-01]\n",
      "epoch= 97: 100%|███████████████| 391/391 [00:35<00:00, 10.92it/s, loss=5.30e-02]\n",
      "epoch= 98: 100%|███████████████| 391/391 [00:36<00:00, 10.82it/s, loss=6.39e-02]\n",
      "epoch= 99: 100%|███████████████| 391/391 [00:36<00:00, 10.81it/s, loss=4.26e-02]\n"
     ]
    }
   ],
   "source": [
    "device = \"cuda\" if torch.cuda.is_available() else \"cpu\"\n",
    "model.to(device)\n",
    "\n",
    "for epoch in range(num_epochs):\n",
    "    for x, y in (pbar := tqdm(loader, ncols=80, desc=f\"{epoch=:3}\")):\n",
    "        x, y = x.to(device), y.to(device)\n",
    "        y_pred = model(x)\n",
    "        loss = criterion(y_pred, y)\n",
    "\n",
    "        optimizer.zero_grad()\n",
    "        loss.backward()\n",
    "        optimizer.step()\n",
    "\n",
    "        pbar.set_postfix({\"loss\": f\"{loss.item():.2e}\"})"
   ]
  },
  {
   "cell_type": "code",
   "execution_count": 9,
   "metadata": {},
   "outputs": [],
   "source": [
    "model_save_path = \"model.pt\"\n",
    "torch.save(model, model_save_path)"
   ]
  },
  {
   "cell_type": "code",
   "execution_count": 10,
   "metadata": {},
   "outputs": [],
   "source": [
    "model = torch.load(model_save_path)"
   ]
  },
  {
   "cell_type": "markdown",
   "metadata": {},
   "source": [
    "Getting image embeddings"
   ]
  },
  {
   "cell_type": "code",
   "execution_count": 12,
   "metadata": {},
   "outputs": [
    {
     "data": {
      "text/plain": [
       "(['x',\n",
       "  'conv1',\n",
       "  'bn1',\n",
       "  'relu',\n",
       "  'maxpool',\n",
       "  'layer1.0.conv1',\n",
       "  'layer1.0.bn1',\n",
       "  'layer1.0.relu',\n",
       "  'layer1.0.conv2',\n",
       "  'layer1.0.bn2',\n",
       "  'layer1.0.add',\n",
       "  'layer1.0.relu_1',\n",
       "  'layer1.1.conv1',\n",
       "  'layer1.1.bn1',\n",
       "  'layer1.1.relu',\n",
       "  'layer1.1.conv2',\n",
       "  'layer1.1.bn2',\n",
       "  'layer1.1.add',\n",
       "  'layer1.1.relu_1',\n",
       "  'layer1.2.conv1',\n",
       "  'layer1.2.bn1',\n",
       "  'layer1.2.relu',\n",
       "  'layer1.2.conv2',\n",
       "  'layer1.2.bn2',\n",
       "  'layer1.2.add',\n",
       "  'layer1.2.relu_1',\n",
       "  'layer2.0.conv1',\n",
       "  'layer2.0.bn1',\n",
       "  'layer2.0.relu',\n",
       "  'layer2.0.conv2',\n",
       "  'layer2.0.bn2',\n",
       "  'layer2.0.downsample.0',\n",
       "  'layer2.0.downsample.1',\n",
       "  'layer2.0.add',\n",
       "  'layer2.0.relu_1',\n",
       "  'layer2.1.conv1',\n",
       "  'layer2.1.bn1',\n",
       "  'layer2.1.relu',\n",
       "  'layer2.1.conv2',\n",
       "  'layer2.1.bn2',\n",
       "  'layer2.1.add',\n",
       "  'layer2.1.relu_1',\n",
       "  'layer2.2.conv1',\n",
       "  'layer2.2.bn1',\n",
       "  'layer2.2.relu',\n",
       "  'layer2.2.conv2',\n",
       "  'layer2.2.bn2',\n",
       "  'layer2.2.add',\n",
       "  'layer2.2.relu_1',\n",
       "  'layer2.3.conv1',\n",
       "  'layer2.3.bn1',\n",
       "  'layer2.3.relu',\n",
       "  'layer2.3.conv2',\n",
       "  'layer2.3.bn2',\n",
       "  'layer2.3.add',\n",
       "  'layer2.3.relu_1',\n",
       "  'layer3.0.conv1',\n",
       "  'layer3.0.bn1',\n",
       "  'layer3.0.relu',\n",
       "  'layer3.0.conv2',\n",
       "  'layer3.0.bn2',\n",
       "  'layer3.0.downsample.0',\n",
       "  'layer3.0.downsample.1',\n",
       "  'layer3.0.add',\n",
       "  'layer3.0.relu_1',\n",
       "  'layer3.1.conv1',\n",
       "  'layer3.1.bn1',\n",
       "  'layer3.1.relu',\n",
       "  'layer3.1.conv2',\n",
       "  'layer3.1.bn2',\n",
       "  'layer3.1.add',\n",
       "  'layer3.1.relu_1',\n",
       "  'layer3.2.conv1',\n",
       "  'layer3.2.bn1',\n",
       "  'layer3.2.relu',\n",
       "  'layer3.2.conv2',\n",
       "  'layer3.2.bn2',\n",
       "  'layer3.2.add',\n",
       "  'layer3.2.relu_1',\n",
       "  'layer3.3.conv1',\n",
       "  'layer3.3.bn1',\n",
       "  'layer3.3.relu',\n",
       "  'layer3.3.conv2',\n",
       "  'layer3.3.bn2',\n",
       "  'layer3.3.add',\n",
       "  'layer3.3.relu_1',\n",
       "  'layer3.4.conv1',\n",
       "  'layer3.4.bn1',\n",
       "  'layer3.4.relu',\n",
       "  'layer3.4.conv2',\n",
       "  'layer3.4.bn2',\n",
       "  'layer3.4.add',\n",
       "  'layer3.4.relu_1',\n",
       "  'layer3.5.conv1',\n",
       "  'layer3.5.bn1',\n",
       "  'layer3.5.relu',\n",
       "  'layer3.5.conv2',\n",
       "  'layer3.5.bn2',\n",
       "  'layer3.5.add',\n",
       "  'layer3.5.relu_1',\n",
       "  'layer4.0.conv1',\n",
       "  'layer4.0.bn1',\n",
       "  'layer4.0.relu',\n",
       "  'layer4.0.conv2',\n",
       "  'layer4.0.bn2',\n",
       "  'layer4.0.downsample.0',\n",
       "  'layer4.0.downsample.1',\n",
       "  'layer4.0.add',\n",
       "  'layer4.0.relu_1',\n",
       "  'layer4.1.conv1',\n",
       "  'layer4.1.bn1',\n",
       "  'layer4.1.relu',\n",
       "  'layer4.1.conv2',\n",
       "  'layer4.1.bn2',\n",
       "  'layer4.1.add',\n",
       "  'layer4.1.relu_1',\n",
       "  'layer4.2.conv1',\n",
       "  'layer4.2.bn1',\n",
       "  'layer4.2.relu',\n",
       "  'layer4.2.conv2',\n",
       "  'layer4.2.bn2',\n",
       "  'layer4.2.add',\n",
       "  'layer4.2.relu_1',\n",
       "  'avgpool',\n",
       "  'flatten',\n",
       "  'fc'],\n",
       " ['x',\n",
       "  'conv1',\n",
       "  'bn1',\n",
       "  'relu',\n",
       "  'maxpool',\n",
       "  'layer1.0.conv1',\n",
       "  'layer1.0.bn1',\n",
       "  'layer1.0.relu',\n",
       "  'layer1.0.conv2',\n",
       "  'layer1.0.bn2',\n",
       "  'layer1.0.add',\n",
       "  'layer1.0.relu_1',\n",
       "  'layer1.1.conv1',\n",
       "  'layer1.1.bn1',\n",
       "  'layer1.1.relu',\n",
       "  'layer1.1.conv2',\n",
       "  'layer1.1.bn2',\n",
       "  'layer1.1.add',\n",
       "  'layer1.1.relu_1',\n",
       "  'layer1.2.conv1',\n",
       "  'layer1.2.bn1',\n",
       "  'layer1.2.relu',\n",
       "  'layer1.2.conv2',\n",
       "  'layer1.2.bn2',\n",
       "  'layer1.2.add',\n",
       "  'layer1.2.relu_1',\n",
       "  'layer2.0.conv1',\n",
       "  'layer2.0.bn1',\n",
       "  'layer2.0.relu',\n",
       "  'layer2.0.conv2',\n",
       "  'layer2.0.bn2',\n",
       "  'layer2.0.downsample.0',\n",
       "  'layer2.0.downsample.1',\n",
       "  'layer2.0.add',\n",
       "  'layer2.0.relu_1',\n",
       "  'layer2.1.conv1',\n",
       "  'layer2.1.bn1',\n",
       "  'layer2.1.relu',\n",
       "  'layer2.1.conv2',\n",
       "  'layer2.1.bn2',\n",
       "  'layer2.1.add',\n",
       "  'layer2.1.relu_1',\n",
       "  'layer2.2.conv1',\n",
       "  'layer2.2.bn1',\n",
       "  'layer2.2.relu',\n",
       "  'layer2.2.conv2',\n",
       "  'layer2.2.bn2',\n",
       "  'layer2.2.add',\n",
       "  'layer2.2.relu_1',\n",
       "  'layer2.3.conv1',\n",
       "  'layer2.3.bn1',\n",
       "  'layer2.3.relu',\n",
       "  'layer2.3.conv2',\n",
       "  'layer2.3.bn2',\n",
       "  'layer2.3.add',\n",
       "  'layer2.3.relu_1',\n",
       "  'layer3.0.conv1',\n",
       "  'layer3.0.bn1',\n",
       "  'layer3.0.relu',\n",
       "  'layer3.0.conv2',\n",
       "  'layer3.0.bn2',\n",
       "  'layer3.0.downsample.0',\n",
       "  'layer3.0.downsample.1',\n",
       "  'layer3.0.add',\n",
       "  'layer3.0.relu_1',\n",
       "  'layer3.1.conv1',\n",
       "  'layer3.1.bn1',\n",
       "  'layer3.1.relu',\n",
       "  'layer3.1.conv2',\n",
       "  'layer3.1.bn2',\n",
       "  'layer3.1.add',\n",
       "  'layer3.1.relu_1',\n",
       "  'layer3.2.conv1',\n",
       "  'layer3.2.bn1',\n",
       "  'layer3.2.relu',\n",
       "  'layer3.2.conv2',\n",
       "  'layer3.2.bn2',\n",
       "  'layer3.2.add',\n",
       "  'layer3.2.relu_1',\n",
       "  'layer3.3.conv1',\n",
       "  'layer3.3.bn1',\n",
       "  'layer3.3.relu',\n",
       "  'layer3.3.conv2',\n",
       "  'layer3.3.bn2',\n",
       "  'layer3.3.add',\n",
       "  'layer3.3.relu_1',\n",
       "  'layer3.4.conv1',\n",
       "  'layer3.4.bn1',\n",
       "  'layer3.4.relu',\n",
       "  'layer3.4.conv2',\n",
       "  'layer3.4.bn2',\n",
       "  'layer3.4.add',\n",
       "  'layer3.4.relu_1',\n",
       "  'layer3.5.conv1',\n",
       "  'layer3.5.bn1',\n",
       "  'layer3.5.relu',\n",
       "  'layer3.5.conv2',\n",
       "  'layer3.5.bn2',\n",
       "  'layer3.5.add',\n",
       "  'layer3.5.relu_1',\n",
       "  'layer4.0.conv1',\n",
       "  'layer4.0.bn1',\n",
       "  'layer4.0.relu',\n",
       "  'layer4.0.conv2',\n",
       "  'layer4.0.bn2',\n",
       "  'layer4.0.downsample.0',\n",
       "  'layer4.0.downsample.1',\n",
       "  'layer4.0.add',\n",
       "  'layer4.0.relu_1',\n",
       "  'layer4.1.conv1',\n",
       "  'layer4.1.bn1',\n",
       "  'layer4.1.relu',\n",
       "  'layer4.1.conv2',\n",
       "  'layer4.1.bn2',\n",
       "  'layer4.1.add',\n",
       "  'layer4.1.relu_1',\n",
       "  'layer4.2.conv1',\n",
       "  'layer4.2.bn1',\n",
       "  'layer4.2.relu',\n",
       "  'layer4.2.conv2',\n",
       "  'layer4.2.bn2',\n",
       "  'layer4.2.add',\n",
       "  'layer4.2.relu_1',\n",
       "  'avgpool',\n",
       "  'flatten',\n",
       "  'fc'])"
      ]
     },
     "execution_count": 12,
     "metadata": {},
     "output_type": "execute_result"
    }
   ],
   "source": [
    "get_graph_node_names(model)"
   ]
  },
  {
   "cell_type": "code",
   "execution_count": 13,
   "metadata": {},
   "outputs": [],
   "source": [
    "model.eval()\n",
    "feature_extractor = create_feature_extractor(model, {\"flatten\": \"embeddings\"})\n",
    "n_repeats = 10\n",
    "\n",
    "\n",
    "embs = []\n",
    "for _ in range(n_repeats):\n",
    "    with torch.no_grad():\n",
    "        embs_ = []\n",
    "        for x, _ in loader:\n",
    "            x = x.to(device)\n",
    "            emb = feature_extractor(x)[\"embeddings\"]\n",
    "            embs_.append(emb.cpu())\n",
    "        embs_ = torch.cat(embs_)\n",
    "    embs.append(embs_)"
   ]
  },
  {
   "cell_type": "code",
   "execution_count": 16,
   "metadata": {},
   "outputs": [
    {
     "data": {
      "text/plain": [
       "torch.Size([50000, 512])"
      ]
     },
     "execution_count": 16,
     "metadata": {},
     "output_type": "execute_result"
    }
   ],
   "source": [
    "embs[0].shape"
   ]
  },
  {
   "cell_type": "markdown",
   "metadata": {},
   "source": [
    "Clustering the embeddings and plotting the results"
   ]
  },
  {
   "cell_type": "code",
   "execution_count": 18,
   "metadata": {},
   "outputs": [],
   "source": [
    "cifar_class_names = [\"airplanes\", \"cars\", \"birds\", \"cats\", \"deer\", \"dogs\", \"frogs\", \"horses\", \"ships\", \"trucks\"]\n",
    "\n",
    "def generate_ps(noised_labels, embs, num_clusters=5):\n",
    "    # normalizing embeddings is the same as using cosine distance\n",
    "    normalized_embs = embs / (embs ** 2).sum(axis=1, keepdims=True)\n",
    "\n",
    "    P = torch.zeros(num_classes, num_clusters, num_classes)\n",
    "    for true_cls in range(num_classes):\n",
    "        class_embs = normalized_embs[clean_labels == true_cls]\n",
    "        clusters = KMeans(num_clusters, n_init=10, random_state=1337).fit_predict(class_embs)\n",
    "        for c in range(num_clusters):\n",
    "            for i in range(num_classes):\n",
    "                P[true_cls, c, i] = (noised_labels[clean_labels == true_cls][clusters == c] == i).float().mean()\n",
    "    return P\n",
    "\n",
    "def plot_ps(P):\n",
    "    per_row = 5\n",
    "    num_classes = P.shape[0]\n",
    "    fig, axs = plt.subplots(num_classes // per_row, per_row, figsize=(10, 5))\n",
    "    for i, P_ in enumerate(P):\n",
    "        ax = axs[i // per_row, i % per_row]\n",
    "        ax.matshow(P_) # cmap=\"YlGnBu\" for their colormap\n",
    "        ax.set_title(f\"class: {i} ({cifar_class_names[i]})\")\n",
    "    fig.tight_layout()"
   ]
  },
  {
   "cell_type": "code",
   "execution_count": 19,
   "metadata": {},
   "outputs": [
    {
     "data": {
      "image/png": "[encoded data removed]",
      "text/plain": [
       "<Figure size 1000x500 with 10 Axes>"
      ]
     },
     "metadata": {},
     "output_type": "display_data"
    }
   ],
   "source": [
    "P_human = generate_ps(noisy_labels, embs[0])\n",
    "plot_ps(P_human)"
   ]
  },
  {
   "cell_type": "code",
   "execution_count": 20,
   "metadata": {},
   "outputs": [
    {
     "data": {
      "image/png": "[encoded data removed]",
      "text/plain": [
       "<Figure size 1000x500 with 10 Axes>"
      ]
     },
     "metadata": {},
     "output_type": "display_data"
    }
   ],
   "source": [
    "Ps_sythetic = torch.stack([generate_ps(synthetic_labels, emb) for emb in embs])\n",
    "plot_ps(Ps_sythetic[0])"
   ]
  },
  {
   "cell_type": "markdown",
   "metadata": {},
   "source": [
    "Getting distances"
   ]
  },
  {
   "cell_type": "code",
   "execution_count": 28,
   "metadata": {},
   "outputs": [
    {
     "data": {
      "text/plain": [
       "(torch.Size([10, 5, 10]), torch.Size([10, 10, 5, 10]))"
      ]
     },
     "execution_count": 28,
     "metadata": {},
     "output_type": "execute_result"
    }
   ],
   "source": [
    "P_human.shape, Ps_sythetic.shape # [repeats, cls, cluster, cls]"
   ]
  },
  {
   "cell_type": "code",
   "execution_count": 29,
   "metadata": {},
   "outputs": [
    {
     "data": {
      "text/plain": [
       "torch.Size([10, 10, 5])"
      ]
     },
     "execution_count": 29,
     "metadata": {},
     "output_type": "execute_result"
    }
   ],
   "source": [
    "d_human = ((P_human - Ps_sythetic) ** 2).sum(axis=-1)\n",
    "d_human.shape"
   ]
  },
  {
   "cell_type": "code",
   "execution_count": 31,
   "metadata": {},
   "outputs": [
    {
     "data": {
      "text/plain": [
       "torch.Size([10, 10, 5])"
      ]
     },
     "execution_count": 31,
     "metadata": {},
     "output_type": "execute_result"
    }
   ],
   "source": [
    "d_synthetic = ((Ps_sythetic - Ps_sythetic.roll(1, dims=0)) ** 2).sum(axis=-1)\n",
    "d_synthetic.shape"
   ]
  },
  {
   "cell_type": "markdown",
   "metadata": {},
   "source": [
    "Hypothesis testing with two sided t-test"
   ]
  },
  {
   "cell_type": "code",
   "execution_count": 50,
   "metadata": {},
   "outputs": [
    {
     "data": {
      "text/plain": [
       "array([[2, 4]])"
      ]
     },
     "execution_count": 50,
     "metadata": {},
     "output_type": "execute_result"
    }
   ],
   "source": [
    "pvals = ttest_ind(d_human, d_synthetic, equal_var=False).pvalue\n",
    "np.argwhere(pvals == pvals.max())"
   ]
  }
 ],
 "metadata": {
  "kernelspec": {
   "display_name": "noisylabels-venv",
   "language": "python",
   "name": "python3"
  },
  "language_info": {
   "codemirror_mode": {
    "name": "ipython",
    "version": 3
   },
   "file_extension": ".py",
   "mimetype": "text/x-python",
   "name": "python",
   "nbconvert_exporter": "python",
   "pygments_lexer": "ipython3",
   "version": "3.10.12"
  }
 },
 "nbformat": 4,
 "nbformat_minor": 2
}
