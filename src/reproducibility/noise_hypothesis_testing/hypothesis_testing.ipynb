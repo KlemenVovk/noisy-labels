{
 "cells": [
  {
   "cell_type": "code",
   "execution_count": 1,
   "metadata": {},
   "outputs": [],
   "source": [
    "import torch\n",
    "from torch import nn\n",
    "from torchvision.datasets import CIFAR10\n",
    "from utils import ResNet34 as resnet34\n",
    "from torchvision.models.feature_extraction import create_feature_extractor, get_graph_node_names\n",
    "from torchvision import transforms\n",
    "import numpy as np\n",
    "from sklearn.cluster import KMeans\n",
    "from scipy.stats import ttest_ind\n",
    "from matplotlib import pyplot as plt\n",
    "from tqdm import tqdm"
   ]
  },
  {
   "cell_type": "markdown",
   "metadata": {},
   "source": [
    "Generating the transition matrix based on random label 1 noisy labels and generating synthetic labels based on it"
   ]
  },
  {
   "cell_type": "code",
   "execution_count": 2,
   "metadata": {},
   "outputs": [
    {
     "data": {
      "text/plain": [
       "tensor([6, 9, 9,  ..., 9, 1, 1])"
      ]
     },
     "execution_count": 2,
     "metadata": {},
     "output_type": "execute_result"
    }
   ],
   "source": [
    "noisy_path = \"../../../data/noisylabels/CIFAR-10_human.pt\"\n",
    "noisy_labels = torch.tensor(torch.load(noisy_path)[\"random_label1\"])\n",
    "noisy_labels"
   ]
  },
  {
   "cell_type": "code",
   "execution_count": 3,
   "metadata": {},
   "outputs": [
    {
     "data": {
      "text/plain": [
       "tensor([6, 9, 9,  ..., 9, 1, 1])"
      ]
     },
     "execution_count": 3,
     "metadata": {},
     "output_type": "execute_result"
    }
   ],
   "source": [
    "cifar10_train_transform = transforms.Compose([\n",
    "    transforms.RandomCrop(32, padding=4),\n",
    "    transforms.RandomHorizontalFlip(),\n",
    "    transforms.ToTensor(),\n",
    "    transforms.Normalize((0.4914, 0.4822, 0.4465), (0.2023, 0.1994, 0.2010)),\n",
    "])\n",
    "\n",
    "clean_dataset = CIFAR10(\"../../../data/cifar\", train=True, transform=cifar10_train_transform)\n",
    "clean_labels = torch.tensor(clean_dataset.targets)\n",
    "clean_labels"
   ]
  },
  {
   "cell_type": "code",
   "execution_count": 4,
   "metadata": {},
   "outputs": [
    {
     "data": {
      "text/plain": [
       "tensor([[0.8484, 0.0274, 0.0294, 0.0086, 0.0068, 0.0094, 0.0082, 0.0064, 0.0408,\n",
       "         0.0146],\n",
       "        [0.0142, 0.8466, 0.0046, 0.0088, 0.0058, 0.0046, 0.0050, 0.0048, 0.0086,\n",
       "         0.0970],\n",
       "        [0.0214, 0.0152, 0.8400, 0.0214, 0.0272, 0.0202, 0.0230, 0.0152, 0.0100,\n",
       "         0.0064],\n",
       "        [0.0158, 0.0152, 0.0440, 0.7430, 0.0188, 0.1084, 0.0240, 0.0158, 0.0072,\n",
       "         0.0078],\n",
       "        [0.0148, 0.0152, 0.0298, 0.0192, 0.7600, 0.0504, 0.0186, 0.0770, 0.0088,\n",
       "         0.0062],\n",
       "        [0.0140, 0.0108, 0.0236, 0.0818, 0.0166, 0.8234, 0.0100, 0.0126, 0.0038,\n",
       "         0.0034],\n",
       "        [0.0150, 0.0140, 0.0386, 0.0358, 0.0196, 0.0226, 0.8270, 0.0120, 0.0100,\n",
       "         0.0054],\n",
       "        [0.0148, 0.0118, 0.0074, 0.0090, 0.0206, 0.0236, 0.0072, 0.8950, 0.0062,\n",
       "         0.0044],\n",
       "        [0.0298, 0.0296, 0.0072, 0.0062, 0.0070, 0.0060, 0.0066, 0.0068, 0.8794,\n",
       "         0.0214],\n",
       "        [0.0160, 0.1258, 0.0046, 0.0050, 0.0066, 0.0080, 0.0054, 0.0054, 0.0094,\n",
       "         0.8138]])"
      ]
     },
     "execution_count": 4,
     "metadata": {},
     "output_type": "execute_result"
    }
   ],
   "source": [
    "num_classes = 10\n",
    "num_repeats = 10\n",
    "T = torch.zeros(num_classes, num_classes)\n",
    "\n",
    "for i in range(num_classes):\n",
    "    clean_mask = clean_labels == i\n",
    "    for j in range(num_classes):\n",
    "        p = (noisy_labels[clean_mask] == j).float().mean()\n",
    "        T[i, j] = p\n",
    "T"
   ]
  },
  {
   "cell_type": "code",
   "execution_count": 5,
   "metadata": {},
   "outputs": [
    {
     "data": {
      "text/plain": [
       "[tensor([6, 9, 2,  ..., 9, 1, 1]),\n",
       " tensor([6, 9, 9,  ..., 9, 1, 1]),\n",
       " tensor([6, 9, 1,  ..., 9, 1, 1]),\n",
       " tensor([6, 9, 1,  ..., 9, 1, 1]),\n",
       " tensor([6, 1, 9,  ..., 9, 1, 1]),\n",
       " tensor([1, 1, 9,  ..., 9, 1, 1]),\n",
       " tensor([6, 9, 0,  ..., 9, 1, 1]),\n",
       " tensor([6, 9, 1,  ..., 0, 1, 1]),\n",
       " tensor([6, 1, 1,  ..., 9, 1, 1]),\n",
       " tensor([6, 9, 9,  ..., 9, 1, 1])]"
      ]
     },
     "execution_count": 5,
     "metadata": {},
     "output_type": "execute_result"
    }
   ],
   "source": [
    "gen = torch.Generator(\"cpu\").manual_seed(1337)\n",
    "synthetic_labels = [torch.multinomial(T[clean_labels], 1, generator=gen).squeeze() for _ in range(num_repeats)]\n",
    "synthetic_labels"
   ]
  },
  {
   "cell_type": "markdown",
   "metadata": {},
   "source": [
    "Training ResNet34 on clean data"
   ]
  },
  {
   "cell_type": "code",
   "execution_count": 12,
   "metadata": {},
   "outputs": [],
   "source": [
    "device = \"cuda\" if torch.cuda.is_available() else \"cpu\"\n",
    "model_save_path = \"model.pt\"\n",
    "\n",
    "model = resnet34(num_classes=num_classes)\n",
    "criterion = nn.CrossEntropyLoss()\n",
    "optimizer = torch.optim.SGD(\n",
    "    model.parameters(), \n",
    "    lr=0.1,\n",
    "    momentum=0.9,\n",
    "    weight_decay=5e-4\n",
    ")\n",
    "scheduler = torch.optim.lr_scheduler.MultiStepLR(\n",
    "    optimizer, \n",
    "    milestones=[60], \n",
    "    gamma=0.1\n",
    ")\n",
    "loader = torch.utils.data.DataLoader(clean_dataset, batch_size=128, num_workers=4)\n",
    "\n",
    "num_epochs = 100"
   ]
  },
  {
   "cell_type": "code",
   "execution_count": 13,
   "metadata": {},
   "outputs": [
    {
     "name": "stderr",
     "output_type": "stream",
     "text": [
      "epoch=  0: 100%|███████████████| 391/391 [00:56<00:00,  6.87it/s, loss=1.75e+00]\n",
      "epoch=  1: 100%|███████████████| 391/391 [00:57<00:00,  6.84it/s, loss=1.31e+00]\n",
      "epoch=  2: 100%|███████████████| 391/391 [00:58<00:00,  6.66it/s, loss=1.22e+00]\n",
      "epoch=  3: 100%|███████████████| 391/391 [01:00<00:00,  6.50it/s, loss=9.35e-01]\n",
      "epoch=  4: 100%|███████████████| 391/391 [01:00<00:00,  6.52it/s, loss=7.57e-01]\n",
      "epoch=  5: 100%|███████████████| 391/391 [00:59<00:00,  6.55it/s, loss=7.57e-01]\n",
      "epoch=  6: 100%|███████████████| 391/391 [01:00<00:00,  6.48it/s, loss=6.71e-01]\n",
      "epoch=  7: 100%|███████████████| 391/391 [00:59<00:00,  6.55it/s, loss=5.11e-01]\n",
      "epoch=  8: 100%|███████████████| 391/391 [00:59<00:00,  6.52it/s, loss=5.38e-01]\n",
      "epoch=  9: 100%|███████████████| 391/391 [00:59<00:00,  6.57it/s, loss=5.38e-01]\n",
      "epoch= 10: 100%|███████████████| 391/391 [00:59<00:00,  6.53it/s, loss=4.63e-01]\n",
      "epoch= 11: 100%|███████████████| 391/391 [00:59<00:00,  6.53it/s, loss=3.55e-01]\n",
      "epoch= 12: 100%|███████████████| 391/391 [00:59<00:00,  6.57it/s, loss=5.88e-01]\n",
      "epoch= 13: 100%|███████████████| 391/391 [00:59<00:00,  6.57it/s, loss=5.27e-01]\n",
      "epoch= 14: 100%|███████████████| 391/391 [00:59<00:00,  6.56it/s, loss=3.16e-01]\n",
      "epoch= 15: 100%|███████████████| 391/391 [00:59<00:00,  6.54it/s, loss=3.57e-01]\n",
      "epoch= 16: 100%|███████████████| 391/391 [00:59<00:00,  6.58it/s, loss=4.11e-01]\n",
      "epoch= 17: 100%|███████████████| 391/391 [00:59<00:00,  6.54it/s, loss=4.15e-01]\n",
      "epoch= 18: 100%|███████████████| 391/391 [01:00<00:00,  6.50it/s, loss=4.02e-01]\n",
      "epoch= 19: 100%|███████████████| 391/391 [00:59<00:00,  6.54it/s, loss=4.21e-01]\n",
      "epoch= 20: 100%|███████████████| 391/391 [00:59<00:00,  6.55it/s, loss=3.92e-01]\n",
      "epoch= 21: 100%|███████████████| 391/391 [00:59<00:00,  6.53it/s, loss=3.42e-01]\n",
      "epoch= 22: 100%|███████████████| 391/391 [00:59<00:00,  6.52it/s, loss=5.38e-01]\n",
      "epoch= 23: 100%|███████████████| 391/391 [00:59<00:00,  6.57it/s, loss=4.44e-01]\n",
      "epoch= 24: 100%|███████████████| 391/391 [00:59<00:00,  6.53it/s, loss=3.46e-01]\n",
      "epoch= 25: 100%|███████████████| 391/391 [00:59<00:00,  6.53it/s, loss=2.92e-01]\n",
      "epoch= 26: 100%|███████████████| 391/391 [00:59<00:00,  6.56it/s, loss=3.62e-01]\n",
      "epoch= 27: 100%|███████████████| 391/391 [00:59<00:00,  6.56it/s, loss=3.73e-01]\n",
      "epoch= 28: 100%|███████████████| 391/391 [00:59<00:00,  6.56it/s, loss=2.62e-01]\n",
      "epoch= 29: 100%|███████████████| 391/391 [00:59<00:00,  6.53it/s, loss=2.82e-01]\n",
      "epoch= 30: 100%|███████████████| 391/391 [01:00<00:00,  6.47it/s, loss=3.82e-01]\n",
      "epoch= 31: 100%|███████████████| 391/391 [01:00<00:00,  6.43it/s, loss=3.51e-01]\n",
      "epoch= 32: 100%|███████████████| 391/391 [01:00<00:00,  6.42it/s, loss=3.63e-01]\n",
      "epoch= 33: 100%|███████████████| 391/391 [00:59<00:00,  6.58it/s, loss=3.02e-01]\n",
      "epoch= 34: 100%|███████████████| 391/391 [00:58<00:00,  6.71it/s, loss=4.49e-01]\n",
      "epoch= 35: 100%|███████████████| 391/391 [00:58<00:00,  6.67it/s, loss=3.17e-01]\n",
      "epoch= 36: 100%|███████████████| 391/391 [00:58<00:00,  6.67it/s, loss=3.28e-01]\n",
      "epoch= 37: 100%|███████████████| 391/391 [01:00<00:00,  6.51it/s, loss=3.43e-01]\n",
      "epoch= 38: 100%|███████████████| 391/391 [01:00<00:00,  6.51it/s, loss=2.62e-01]\n",
      "epoch= 39: 100%|███████████████| 391/391 [00:58<00:00,  6.63it/s, loss=3.10e-01]\n",
      "epoch= 40: 100%|███████████████| 391/391 [00:59<00:00,  6.56it/s, loss=4.20e-01]\n",
      "epoch= 41: 100%|███████████████| 391/391 [00:58<00:00,  6.65it/s, loss=3.66e-01]\n",
      "epoch= 42: 100%|███████████████| 391/391 [00:56<00:00,  6.89it/s, loss=2.93e-01]\n",
      "epoch= 43: 100%|███████████████| 391/391 [00:59<00:00,  6.57it/s, loss=3.24e-01]\n",
      "epoch= 44: 100%|███████████████| 391/391 [00:59<00:00,  6.61it/s, loss=4.37e-01]\n",
      "epoch= 45: 100%|███████████████| 391/391 [00:59<00:00,  6.58it/s, loss=3.43e-01]\n",
      "epoch= 46: 100%|███████████████| 391/391 [00:59<00:00,  6.55it/s, loss=3.33e-01]\n",
      "epoch= 47: 100%|███████████████| 391/391 [00:59<00:00,  6.53it/s, loss=4.20e-01]\n",
      "epoch= 48: 100%|███████████████| 391/391 [00:59<00:00,  6.62it/s, loss=4.36e-01]\n",
      "epoch= 49: 100%|███████████████| 391/391 [00:59<00:00,  6.57it/s, loss=2.43e-01]\n",
      "epoch= 50: 100%|███████████████| 391/391 [00:59<00:00,  6.56it/s, loss=3.51e-01]\n",
      "epoch= 51: 100%|███████████████| 391/391 [00:59<00:00,  6.55it/s, loss=3.00e-01]\n",
      "epoch= 52: 100%|███████████████| 391/391 [00:59<00:00,  6.59it/s, loss=2.38e-01]\n",
      "epoch= 53: 100%|███████████████| 391/391 [00:57<00:00,  6.78it/s, loss=3.84e-01]\n",
      "epoch= 54: 100%|███████████████| 391/391 [00:59<00:00,  6.57it/s, loss=2.69e-01]\n",
      "epoch= 55: 100%|███████████████| 391/391 [00:59<00:00,  6.58it/s, loss=3.55e-01]\n",
      "epoch= 56: 100%|███████████████| 391/391 [00:58<00:00,  6.63it/s, loss=2.55e-01]\n",
      "epoch= 57: 100%|███████████████| 391/391 [01:01<00:00,  6.36it/s, loss=3.04e-01]\n",
      "epoch= 58: 100%|███████████████| 391/391 [01:01<00:00,  6.35it/s, loss=1.92e-01]\n",
      "epoch= 59: 100%|███████████████| 391/391 [01:01<00:00,  6.36it/s, loss=3.41e-01]\n",
      "epoch= 60: 100%|███████████████| 391/391 [00:58<00:00,  6.66it/s, loss=1.64e-01]\n",
      "epoch= 61: 100%|███████████████| 391/391 [00:57<00:00,  6.77it/s, loss=7.77e-02]\n",
      "epoch= 62: 100%|███████████████| 391/391 [00:58<00:00,  6.73it/s, loss=6.48e-02]\n",
      "epoch= 63: 100%|███████████████| 391/391 [00:58<00:00,  6.70it/s, loss=6.52e-02]\n",
      "epoch= 64: 100%|███████████████| 391/391 [00:57<00:00,  6.78it/s, loss=3.67e-02]\n",
      "epoch= 65: 100%|███████████████| 391/391 [00:56<00:00,  6.87it/s, loss=4.44e-02]\n",
      "epoch= 66: 100%|███████████████| 391/391 [00:56<00:00,  6.88it/s, loss=2.46e-02]\n",
      "epoch= 67: 100%|███████████████| 391/391 [00:57<00:00,  6.85it/s, loss=1.77e-02]\n",
      "epoch= 68: 100%|███████████████| 391/391 [00:58<00:00,  6.73it/s, loss=2.77e-02]\n",
      "epoch= 69: 100%|███████████████| 391/391 [00:57<00:00,  6.86it/s, loss=1.12e-02]\n",
      "epoch= 70: 100%|███████████████| 391/391 [00:57<00:00,  6.84it/s, loss=6.42e-02]\n",
      "epoch= 71: 100%|███████████████| 391/391 [00:57<00:00,  6.86it/s, loss=2.60e-02]\n",
      "epoch= 72: 100%|███████████████| 391/391 [00:56<00:00,  6.87it/s, loss=9.41e-03]\n",
      "epoch= 73: 100%|███████████████| 391/391 [00:57<00:00,  6.84it/s, loss=2.56e-02]\n",
      "epoch= 74: 100%|███████████████| 391/391 [00:57<00:00,  6.78it/s, loss=2.08e-02]\n",
      "epoch= 75: 100%|███████████████| 391/391 [01:00<00:00,  6.47it/s, loss=3.14e-02]\n",
      "epoch= 76: 100%|███████████████| 391/391 [01:00<00:00,  6.51it/s, loss=2.56e-03]\n",
      "epoch= 77: 100%|███████████████| 391/391 [01:00<00:00,  6.51it/s, loss=6.06e-03]\n",
      "epoch= 78: 100%|███████████████| 391/391 [00:58<00:00,  6.70it/s, loss=2.12e-02]\n",
      "epoch= 79: 100%|███████████████| 391/391 [00:58<00:00,  6.64it/s, loss=1.87e-02]\n",
      "epoch= 80: 100%|███████████████| 391/391 [00:58<00:00,  6.67it/s, loss=2.59e-02]\n",
      "epoch= 81: 100%|███████████████| 391/391 [00:58<00:00,  6.71it/s, loss=8.96e-03]\n",
      "epoch= 82: 100%|███████████████| 391/391 [00:56<00:00,  6.89it/s, loss=3.54e-02]\n",
      "epoch= 83: 100%|███████████████| 391/391 [00:57<00:00,  6.84it/s, loss=1.95e-02]\n",
      "epoch= 84: 100%|███████████████| 391/391 [00:57<00:00,  6.84it/s, loss=3.25e-02]\n",
      "epoch= 85: 100%|███████████████| 391/391 [00:58<00:00,  6.70it/s, loss=1.83e-02]\n",
      "epoch= 86: 100%|███████████████| 391/391 [00:58<00:00,  6.69it/s, loss=2.02e-02]\n",
      "epoch= 87: 100%|███████████████| 391/391 [00:58<00:00,  6.74it/s, loss=1.18e-02]\n",
      "epoch= 88: 100%|███████████████| 391/391 [00:58<00:00,  6.67it/s, loss=8.27e-03]\n",
      "epoch= 89: 100%|███████████████| 391/391 [00:58<00:00,  6.68it/s, loss=2.65e-02]\n",
      "epoch= 90: 100%|███████████████| 391/391 [00:59<00:00,  6.58it/s, loss=5.94e-02]\n",
      "epoch= 91: 100%|███████████████| 391/391 [00:58<00:00,  6.65it/s, loss=1.56e-02]\n",
      "epoch= 92: 100%|███████████████| 391/391 [00:57<00:00,  6.75it/s, loss=1.04e-02]\n",
      "epoch= 93: 100%|███████████████| 391/391 [00:57<00:00,  6.79it/s, loss=6.45e-02]\n",
      "epoch= 94: 100%|███████████████| 391/391 [00:59<00:00,  6.59it/s, loss=2.33e-02]\n",
      "epoch= 95: 100%|███████████████| 391/391 [00:58<00:00,  6.65it/s, loss=2.49e-02]\n",
      "epoch= 96: 100%|███████████████| 391/391 [00:57<00:00,  6.78it/s, loss=4.82e-03]\n",
      "epoch= 97: 100%|███████████████| 391/391 [00:58<00:00,  6.67it/s, loss=1.18e-01]\n",
      "epoch= 98: 100%|███████████████| 391/391 [00:57<00:00,  6.81it/s, loss=2.29e-02]\n",
      "epoch= 99: 100%|███████████████| 391/391 [00:57<00:00,  6.77it/s, loss=1.08e-01]\n"
     ]
    }
   ],
   "source": [
    "model.to(device)\n",
    "\n",
    "for epoch in range(num_epochs):\n",
    "    for x, y in (pbar := tqdm(loader, ncols=80, desc=f\"{epoch=:3}\")):\n",
    "        x, y = x.to(device), y.to(device)\n",
    "        y_pred = model(x)\n",
    "        loss = criterion(y_pred, y)\n",
    "\n",
    "        optimizer.zero_grad()\n",
    "        loss.backward()\n",
    "        optimizer.step()\n",
    "\n",
    "        pbar.set_postfix({\"loss\": f\"{loss.item():.2e}\"})\n",
    "    scheduler.step()\n",
    "torch.save(model, model_save_path)"
   ]
  },
  {
   "cell_type": "code",
   "execution_count": 14,
   "metadata": {},
   "outputs": [],
   "source": [
    "model = torch.load(model_save_path)"
   ]
  },
  {
   "cell_type": "markdown",
   "metadata": {},
   "source": [
    "Getting image embeddings"
   ]
  },
  {
   "cell_type": "code",
   "execution_count": 16,
   "metadata": {},
   "outputs": [
    {
     "data": {
      "text/plain": [
       "(['x',\n",
       "  'conv1',\n",
       "  'bn1',\n",
       "  'relu',\n",
       "  'layer1.0.conv1',\n",
       "  'layer1.0.bn1',\n",
       "  'layer1.0.relu',\n",
       "  'layer1.0.conv2',\n",
       "  'layer1.0.bn2',\n",
       "  'layer1.0.add',\n",
       "  'layer1.0.relu_1',\n",
       "  'layer1.1.conv1',\n",
       "  'layer1.1.bn1',\n",
       "  'layer1.1.relu',\n",
       "  'layer1.1.conv2',\n",
       "  'layer1.1.bn2',\n",
       "  'layer1.1.add',\n",
       "  'layer1.1.relu_1',\n",
       "  'layer1.2.conv1',\n",
       "  'layer1.2.bn1',\n",
       "  'layer1.2.relu',\n",
       "  'layer1.2.conv2',\n",
       "  'layer1.2.bn2',\n",
       "  'layer1.2.add',\n",
       "  'layer1.2.relu_1',\n",
       "  'layer2.0.conv1',\n",
       "  'layer2.0.bn1',\n",
       "  'layer2.0.relu',\n",
       "  'layer2.0.conv2',\n",
       "  'layer2.0.bn2',\n",
       "  'layer2.0.shortcut.0',\n",
       "  'layer2.0.shortcut.1',\n",
       "  'layer2.0.add',\n",
       "  'layer2.0.relu_1',\n",
       "  'layer2.1.conv1',\n",
       "  'layer2.1.bn1',\n",
       "  'layer2.1.relu',\n",
       "  'layer2.1.conv2',\n",
       "  'layer2.1.bn2',\n",
       "  'layer2.1.add',\n",
       "  'layer2.1.relu_1',\n",
       "  'layer2.2.conv1',\n",
       "  'layer2.2.bn1',\n",
       "  'layer2.2.relu',\n",
       "  'layer2.2.conv2',\n",
       "  'layer2.2.bn2',\n",
       "  'layer2.2.add',\n",
       "  'layer2.2.relu_1',\n",
       "  'layer2.3.conv1',\n",
       "  'layer2.3.bn1',\n",
       "  'layer2.3.relu',\n",
       "  'layer2.3.conv2',\n",
       "  'layer2.3.bn2',\n",
       "  'layer2.3.add',\n",
       "  'layer2.3.relu_1',\n",
       "  'layer3.0.conv1',\n",
       "  'layer3.0.bn1',\n",
       "  'layer3.0.relu',\n",
       "  'layer3.0.conv2',\n",
       "  'layer3.0.bn2',\n",
       "  'layer3.0.shortcut.0',\n",
       "  'layer3.0.shortcut.1',\n",
       "  'layer3.0.add',\n",
       "  'layer3.0.relu_1',\n",
       "  'layer3.1.conv1',\n",
       "  'layer3.1.bn1',\n",
       "  'layer3.1.relu',\n",
       "  'layer3.1.conv2',\n",
       "  'layer3.1.bn2',\n",
       "  'layer3.1.add',\n",
       "  'layer3.1.relu_1',\n",
       "  'layer3.2.conv1',\n",
       "  'layer3.2.bn1',\n",
       "  'layer3.2.relu',\n",
       "  'layer3.2.conv2',\n",
       "  'layer3.2.bn2',\n",
       "  'layer3.2.add',\n",
       "  'layer3.2.relu_1',\n",
       "  'layer3.3.conv1',\n",
       "  'layer3.3.bn1',\n",
       "  'layer3.3.relu',\n",
       "  'layer3.3.conv2',\n",
       "  'layer3.3.bn2',\n",
       "  'layer3.3.add',\n",
       "  'layer3.3.relu_1',\n",
       "  'layer3.4.conv1',\n",
       "  'layer3.4.bn1',\n",
       "  'layer3.4.relu',\n",
       "  'layer3.4.conv2',\n",
       "  'layer3.4.bn2',\n",
       "  'layer3.4.add',\n",
       "  'layer3.4.relu_1',\n",
       "  'layer3.5.conv1',\n",
       "  'layer3.5.bn1',\n",
       "  'layer3.5.relu',\n",
       "  'layer3.5.conv2',\n",
       "  'layer3.5.bn2',\n",
       "  'layer3.5.add',\n",
       "  'layer3.5.relu_1',\n",
       "  'layer4.0.conv1',\n",
       "  'layer4.0.bn1',\n",
       "  'layer4.0.relu',\n",
       "  'layer4.0.conv2',\n",
       "  'layer4.0.bn2',\n",
       "  'layer4.0.shortcut.0',\n",
       "  'layer4.0.shortcut.1',\n",
       "  'layer4.0.add',\n",
       "  'layer4.0.relu_1',\n",
       "  'layer4.1.conv1',\n",
       "  'layer4.1.bn1',\n",
       "  'layer4.1.relu',\n",
       "  'layer4.1.conv2',\n",
       "  'layer4.1.bn2',\n",
       "  'layer4.1.add',\n",
       "  'layer4.1.relu_1',\n",
       "  'layer4.2.conv1',\n",
       "  'layer4.2.bn1',\n",
       "  'layer4.2.relu',\n",
       "  'layer4.2.conv2',\n",
       "  'layer4.2.bn2',\n",
       "  'layer4.2.add',\n",
       "  'layer4.2.relu_1',\n",
       "  'avg_pool2d',\n",
       "  'size',\n",
       "  'view',\n",
       "  'linear'],\n",
       " ['x',\n",
       "  'conv1',\n",
       "  'bn1',\n",
       "  'relu',\n",
       "  'layer1.0.conv1',\n",
       "  'layer1.0.bn1',\n",
       "  'layer1.0.relu',\n",
       "  'layer1.0.conv2',\n",
       "  'layer1.0.bn2',\n",
       "  'layer1.0.add',\n",
       "  'layer1.0.relu_1',\n",
       "  'layer1.1.conv1',\n",
       "  'layer1.1.bn1',\n",
       "  'layer1.1.relu',\n",
       "  'layer1.1.conv2',\n",
       "  'layer1.1.bn2',\n",
       "  'layer1.1.add',\n",
       "  'layer1.1.relu_1',\n",
       "  'layer1.2.conv1',\n",
       "  'layer1.2.bn1',\n",
       "  'layer1.2.relu',\n",
       "  'layer1.2.conv2',\n",
       "  'layer1.2.bn2',\n",
       "  'layer1.2.add',\n",
       "  'layer1.2.relu_1',\n",
       "  'layer2.0.conv1',\n",
       "  'layer2.0.bn1',\n",
       "  'layer2.0.relu',\n",
       "  'layer2.0.conv2',\n",
       "  'layer2.0.bn2',\n",
       "  'layer2.0.shortcut.0',\n",
       "  'layer2.0.shortcut.1',\n",
       "  'layer2.0.add',\n",
       "  'layer2.0.relu_1',\n",
       "  'layer2.1.conv1',\n",
       "  'layer2.1.bn1',\n",
       "  'layer2.1.relu',\n",
       "  'layer2.1.conv2',\n",
       "  'layer2.1.bn2',\n",
       "  'layer2.1.add',\n",
       "  'layer2.1.relu_1',\n",
       "  'layer2.2.conv1',\n",
       "  'layer2.2.bn1',\n",
       "  'layer2.2.relu',\n",
       "  'layer2.2.conv2',\n",
       "  'layer2.2.bn2',\n",
       "  'layer2.2.add',\n",
       "  'layer2.2.relu_1',\n",
       "  'layer2.3.conv1',\n",
       "  'layer2.3.bn1',\n",
       "  'layer2.3.relu',\n",
       "  'layer2.3.conv2',\n",
       "  'layer2.3.bn2',\n",
       "  'layer2.3.add',\n",
       "  'layer2.3.relu_1',\n",
       "  'layer3.0.conv1',\n",
       "  'layer3.0.bn1',\n",
       "  'layer3.0.relu',\n",
       "  'layer3.0.conv2',\n",
       "  'layer3.0.bn2',\n",
       "  'layer3.0.shortcut.0',\n",
       "  'layer3.0.shortcut.1',\n",
       "  'layer3.0.add',\n",
       "  'layer3.0.relu_1',\n",
       "  'layer3.1.conv1',\n",
       "  'layer3.1.bn1',\n",
       "  'layer3.1.relu',\n",
       "  'layer3.1.conv2',\n",
       "  'layer3.1.bn2',\n",
       "  'layer3.1.add',\n",
       "  'layer3.1.relu_1',\n",
       "  'layer3.2.conv1',\n",
       "  'layer3.2.bn1',\n",
       "  'layer3.2.relu',\n",
       "  'layer3.2.conv2',\n",
       "  'layer3.2.bn2',\n",
       "  'layer3.2.add',\n",
       "  'layer3.2.relu_1',\n",
       "  'layer3.3.conv1',\n",
       "  'layer3.3.bn1',\n",
       "  'layer3.3.relu',\n",
       "  'layer3.3.conv2',\n",
       "  'layer3.3.bn2',\n",
       "  'layer3.3.add',\n",
       "  'layer3.3.relu_1',\n",
       "  'layer3.4.conv1',\n",
       "  'layer3.4.bn1',\n",
       "  'layer3.4.relu',\n",
       "  'layer3.4.conv2',\n",
       "  'layer3.4.bn2',\n",
       "  'layer3.4.add',\n",
       "  'layer3.4.relu_1',\n",
       "  'layer3.5.conv1',\n",
       "  'layer3.5.bn1',\n",
       "  'layer3.5.relu',\n",
       "  'layer3.5.conv2',\n",
       "  'layer3.5.bn2',\n",
       "  'layer3.5.add',\n",
       "  'layer3.5.relu_1',\n",
       "  'layer4.0.conv1',\n",
       "  'layer4.0.bn1',\n",
       "  'layer4.0.relu',\n",
       "  'layer4.0.conv2',\n",
       "  'layer4.0.bn2',\n",
       "  'layer4.0.shortcut.0',\n",
       "  'layer4.0.shortcut.1',\n",
       "  'layer4.0.add',\n",
       "  'layer4.0.relu_1',\n",
       "  'layer4.1.conv1',\n",
       "  'layer4.1.bn1',\n",
       "  'layer4.1.relu',\n",
       "  'layer4.1.conv2',\n",
       "  'layer4.1.bn2',\n",
       "  'layer4.1.add',\n",
       "  'layer4.1.relu_1',\n",
       "  'layer4.2.conv1',\n",
       "  'layer4.2.bn1',\n",
       "  'layer4.2.relu',\n",
       "  'layer4.2.conv2',\n",
       "  'layer4.2.bn2',\n",
       "  'layer4.2.add',\n",
       "  'layer4.2.relu_1',\n",
       "  'avg_pool2d',\n",
       "  'size',\n",
       "  'view',\n",
       "  'linear'])"
      ]
     },
     "execution_count": 16,
     "metadata": {},
     "output_type": "execute_result"
    }
   ],
   "source": [
    "get_graph_node_names(model)"
   ]
  },
  {
   "cell_type": "code",
   "execution_count": 18,
   "metadata": {},
   "outputs": [],
   "source": [
    "model.eval()\n",
    "feature_extractor = create_feature_extractor(model, {\"view\": \"embeddings\"})\n",
    "\n",
    "embs = []\n",
    "for _ in range(num_repeats):\n",
    "    with torch.no_grad():\n",
    "        embs_ = []\n",
    "        for x, _ in loader:\n",
    "            x = x.to(device)\n",
    "            emb = feature_extractor(x)[\"embeddings\"]\n",
    "            embs_.append(emb.cpu())\n",
    "        embs_ = torch.cat(embs_)\n",
    "    embs.append(embs_)"
   ]
  },
  {
   "cell_type": "code",
   "execution_count": 19,
   "metadata": {},
   "outputs": [
    {
     "data": {
      "text/plain": [
       "torch.Size([50000, 512])"
      ]
     },
     "execution_count": 19,
     "metadata": {},
     "output_type": "execute_result"
    }
   ],
   "source": [
    "embs[0].shape"
   ]
  },
  {
   "cell_type": "markdown",
   "metadata": {},
   "source": [
    "Clustering the embeddings and plotting the results"
   ]
  },
  {
   "cell_type": "code",
   "execution_count": 20,
   "metadata": {},
   "outputs": [],
   "source": [
    "cifar_class_names = [\"airplanes\", \"cars\", \"birds\", \"cats\", \"deer\", \"dogs\", \"frogs\", \"horses\", \"ships\", \"trucks\"]\n",
    "\n",
    "def generate_ps(noised_labels, embs, num_clusters=5):\n",
    "    # normalizing embeddings is the same as using cosine distance\n",
    "    normalized_embs = embs / (embs ** 2).sum(axis=1, keepdims=True)\n",
    "\n",
    "    P = torch.zeros(num_classes, num_clusters, num_classes)\n",
    "    for true_cls in range(num_classes):\n",
    "        class_embs = normalized_embs[clean_labels == true_cls]\n",
    "        clusters = KMeans(num_clusters, n_init=10, random_state=1337).fit_predict(class_embs)\n",
    "        for c in range(num_clusters):\n",
    "            for i in range(num_classes):\n",
    "                P[true_cls, c, i] = (noised_labels[clean_labels == true_cls][clusters == c] == i).float().mean()\n",
    "    return P\n",
    "\n",
    "def plot_ps(P):\n",
    "    per_row = 5\n",
    "    num_classes = P.shape[0]\n",
    "    fig, axs = plt.subplots(num_classes // per_row, per_row, figsize=(10, 5))\n",
    "    for i, P_ in enumerate(P):\n",
    "        ax = axs[i // per_row, i % per_row]\n",
    "        ax.matshow(P_) # cmap=\"YlGnBu\" for their colormap\n",
    "        ax.set_title(f\"class: {i} ({cifar_class_names[i]})\")\n",
    "    fig.tight_layout()"
   ]
  },
  {
   "cell_type": "code",
   "execution_count": 21,
   "metadata": {},
   "outputs": [
    {
     "data": {
      "image/png": "[encoded data removed]",
      "text/plain": [
       "<Figure size 1000x500 with 10 Axes>"
      ]
     },
     "metadata": {},
     "output_type": "display_data"
    }
   ],
   "source": [
    "Ps_human = torch.stack([generate_ps(noisy_labels, emb) for emb in embs])\n",
    "plot_ps(Ps_human[0])"
   ]
  },
  {
   "cell_type": "code",
   "execution_count": 22,
   "metadata": {},
   "outputs": [
    {
     "data": {
      "image/png": "[encoded data removed]",
      "text/plain": [
       "<Figure size 1000x500 with 10 Axes>"
      ]
     },
     "metadata": {},
     "output_type": "display_data"
    }
   ],
   "source": [
    "Ps_sythetic = torch.stack([generate_ps(lab, emb) for lab, emb in zip(synthetic_labels, embs)])\n",
    "plot_ps(Ps_sythetic[0])"
   ]
  },
  {
   "cell_type": "code",
   "execution_count": 65,
   "metadata": {},
   "outputs": [
    {
     "data": {
      "image/png": "[encoded data removed]",
      "text/plain": [
       "<Figure size 1000x500 with 5 Axes>"
      ]
     },
     "metadata": {},
     "output_type": "display_data"
    }
   ],
   "source": [
    "def plot_ps(P):\n",
    "    per_row = 5\n",
    "    num_classes = P.shape[0]\n",
    "    fig, axs = plt.subplots(num_classes // per_row, per_row, figsize=(10, 5))\n",
    "    for i, P_ in enumerate(P):\n",
    "        ax = axs[i]\n",
    "        ax.matshow(P_) # cmap=\"YlGnBu\" for their colormap\n",
    "        ax.set_title(f\"class: {i} ({cifar_class_names[i]})\")\n",
    "    fig.supylabel(\"cluster\")\n",
    "    fig.tight_layout()\n",
    "    return fig\n",
    "fig = plot_ps(Ps_human[0, :5])\n",
    "fig.savefig(\"human_cluster.pdf\", bbox_inches=\"tight\")"
   ]
  },
  {
   "cell_type": "code",
   "execution_count": 66,
   "metadata": {},
   "outputs": [
    {
     "data": {
      "image/png": "[encoded data removed]",
      "text/plain": [
       "<Figure size 1000x500 with 5 Axes>"
      ]
     },
     "metadata": {},
     "output_type": "display_data"
    }
   ],
   "source": [
    "fig = plot_ps(Ps_sythetic[0, :5])\n",
    "fig.savefig(\"synthetic_cluster.pdf\", bbox_inches=\"tight\")"
   ]
  },
  {
   "cell_type": "markdown",
   "metadata": {},
   "source": [
    "Getting distances"
   ]
  },
  {
   "cell_type": "code",
   "execution_count": 23,
   "metadata": {},
   "outputs": [
    {
     "data": {
      "text/plain": [
       "(torch.Size([10, 10, 5, 10]), torch.Size([10, 10, 5, 10]))"
      ]
     },
     "execution_count": 23,
     "metadata": {},
     "output_type": "execute_result"
    }
   ],
   "source": [
    "Ps_human.shape, Ps_sythetic.shape # [repeats, true_cls, cluster, transition_cls]"
   ]
  },
  {
   "cell_type": "code",
   "execution_count": 24,
   "metadata": {},
   "outputs": [
    {
     "data": {
      "text/plain": [
       "torch.Size([10, 10])"
      ]
     },
     "execution_count": 24,
     "metadata": {},
     "output_type": "execute_result"
    }
   ],
   "source": [
    "d_human = ((Ps_human - Ps_sythetic) ** 2).sum(axis=(-1, -2))\n",
    "d_human.shape"
   ]
  },
  {
   "cell_type": "code",
   "execution_count": 25,
   "metadata": {},
   "outputs": [
    {
     "data": {
      "text/plain": [
       "torch.Size([10, 10])"
      ]
     },
     "execution_count": 25,
     "metadata": {},
     "output_type": "execute_result"
    }
   ],
   "source": [
    "d_synthetic = ((Ps_sythetic - Ps_sythetic.roll(1, dims=0)) ** 2).sum(axis=(-1, -2))\n",
    "d_synthetic.shape"
   ]
  },
  {
   "cell_type": "markdown",
   "metadata": {},
   "source": [
    "Hypothesis testing with two sided t-test"
   ]
  },
  {
   "cell_type": "code",
   "execution_count": 26,
   "metadata": {},
   "outputs": [
    {
     "data": {
      "text/plain": [
       "array([2.6503274e-08, 3.7626076e-01, 1.5044337e-05, 5.0919382e-08,\n",
       "       9.7437969e-08, 4.9719715e-06, 1.4224203e-05, 1.8358276e-03,\n",
       "       1.2157041e-05, 6.5191693e-06], dtype=float32)"
      ]
     },
     "execution_count": 26,
     "metadata": {},
     "output_type": "execute_result"
    }
   ],
   "source": [
    "pvals = ttest_ind(d_human, d_synthetic, equal_var=False).pvalue\n",
    "pvals"
   ]
  },
  {
   "cell_type": "code",
   "execution_count": 27,
   "metadata": {},
   "outputs": [
    {
     "data": {
      "text/plain": [
       "(array([15., 36., 23.,  8.,  7.,  2.,  3.,  3.,  1.,  2.]),\n",
       " array([0.00196344, 0.01019019, 0.01841693, 0.02664368, 0.03487042,\n",
       "        0.04309717, 0.05132391, 0.05955066, 0.0677774 , 0.07600415,\n",
       "        0.08423089]),\n",
       " <BarContainer object of 10 artists>)"
      ]
     },
     "execution_count": 27,
     "metadata": {},
     "output_type": "execute_result"
    },
    {
     "data": {
      "image/png": "[encoded data removed]",
      "text/plain": [
       "<Figure size 640x480 with 1 Axes>"
      ]
     },
     "metadata": {},
     "output_type": "display_data"
    }
   ],
   "source": [
    "plt.hist(d_human.flatten())"
   ]
  },
  {
   "cell_type": "code",
   "execution_count": 28,
   "metadata": {},
   "outputs": [
    {
     "data": {
      "text/plain": [
       "(array([ 7., 19., 20., 18., 17.,  6.,  7.,  4.,  1.,  1.]),\n",
       " array([0.00114147, 0.00213082, 0.00312017, 0.00410951, 0.00509886,\n",
       "        0.00608821, 0.00707756, 0.0080669 , 0.00905625, 0.0100456 ,\n",
       "        0.01103495]),\n",
       " <BarContainer object of 10 artists>)"
      ]
     },
     "execution_count": 28,
     "metadata": {},
     "output_type": "execute_result"
    },
    {
     "data": {
      "image/png": "[encoded data removed]",
      "text/plain": [
       "<Figure size 640x480 with 1 Axes>"
      ]
     },
     "metadata": {},
     "output_type": "display_data"
    }
   ],
   "source": [
    "plt.hist(d_synthetic.flatten())"
   ]
  },
  {
   "cell_type": "code",
   "execution_count": 29,
   "metadata": {},
   "outputs": [
    {
     "data": {
      "text/plain": [
       "3.543978741125806e-18"
      ]
     },
     "execution_count": 29,
     "metadata": {},
     "output_type": "execute_result"
    }
   ],
   "source": [
    "ttest_ind(d_human.flatten(), d_synthetic.flatten(), equal_var=False).pvalue"
   ]
  }
 ],
 "metadata": {
  "kernelspec": {
   "display_name": "noisylabels-venv",
   "language": "python",
   "name": "python3"
  },
  "language_info": {
   "codemirror_mode": {
    "name": "ipython",
    "version": 3
   },
   "file_extension": ".py",
   "mimetype": "text/x-python",
   "name": "python",
   "nbconvert_exporter": "python",
   "pygments_lexer": "ipython3",
   "version": "3.10.12"
  }
 },
 "nbformat": 4,
 "nbformat_minor": 2
}
